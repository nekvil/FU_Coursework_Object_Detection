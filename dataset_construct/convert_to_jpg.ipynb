{
 "cells": [
  {
   "cell_type": "code",
   "execution_count": 5,
   "metadata": {},
   "outputs": [
    {
     "name": "stdout",
     "output_type": "stream",
     "text": [
      "Total JPEG images found:  105061\n",
      "Total other images found:  0\n"
     ]
    }
   ],
   "source": [
    "import PIL.Image\n",
    "import glob\n",
    "import os\n",
    "\n",
    "images = [i for i in glob.glob(\"COCO2020_15.voc/train/*.jpg\")]\n",
    "\n",
    "jpeg = 0\n",
    "others = 0\n",
    "\n",
    "for i in images:\n",
    "\timg = PIL.Image.open(i)\n",
    "\tif img.format == 'JPEG':\n",
    "\t\tjpeg += 1\n",
    "\telse:\n",
    "\t\tprint('{} is {}'.format(i, img.format))\n",
    "\t\tothers +=1\n",
    "\n",
    "print(\"Total JPEG images found: \", jpeg)\n",
    "print(\"Total other images found: \", others) "
   ]
  },
  {
   "cell_type": "code",
   "execution_count": 4,
   "metadata": {},
   "outputs": [
    {
     "name": "stdout",
     "output_type": "stream",
     "text": [
      "['COCO2020_15.voc/train/000000320612.jpg']\n",
      "Done.\n"
     ]
    }
   ],
   "source": [
    "import PIL.Image\n",
    "import glob\n",
    "import os\n",
    "\n",
    "if not \"converted\" in os.listdir():\n",
    "\tos.mkdir(\"converted\")\n",
    "\n",
    "lst_imgs = [i for i in glob.glob(\"COCO2020_15.voc/train/000000320612.jpg\")]\n",
    "print(lst_imgs)\n",
    "\n",
    "for i in lst_imgs:\n",
    "\timg = PIL.Image.open(i)\n",
    "\timg = img.convert(\"RGB\")\n",
    "\timg.save(i, \"JPEG\")\n",
    "\n",
    "\n",
    "print(\"Done.\")\n",
    "os.startfile(\"converted\")"
   ]
  }
 ],
 "metadata": {
  "kernelspec": {
   "display_name": "Python 3",
   "language": "python",
   "name": "python3"
  },
  "language_info": {
   "codemirror_mode": {
    "name": "ipython",
    "version": 3
   },
   "file_extension": ".py",
   "mimetype": "text/x-python",
   "name": "python",
   "nbconvert_exporter": "python",
   "pygments_lexer": "ipython3",
   "version": "3.10.10"
  },
  "orig_nbformat": 4
 },
 "nbformat": 4,
 "nbformat_minor": 2
}
