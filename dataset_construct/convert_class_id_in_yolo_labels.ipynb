{
 "cells": [
  {
   "cell_type": "code",
   "execution_count": 37,
   "metadata": {},
   "outputs": [],
   "source": [
    "import os, fnmatch\n",
    "\n",
    "def findReplace(directory, find, replace, filePattern):\n",
    "    for path, dirs, files in os.walk(os.path.abspath(directory)):\n",
    "        for filename in fnmatch.filter(files, filePattern):\n",
    "            filepath = os.path.join(path, filename)\n",
    "\n",
    "            this_file = open(filepath, \"r\")\n",
    "            this_files_data = this_file.readlines()\n",
    "            this_file.close()\n",
    "\n",
    "            this_file = open(filepath, \"w\")\n",
    "            for line in this_files_data:\n",
    "                this_file.write(line[0].replace(find, replace)+line[1:])\n",
    "            \n",
    "            this_file.close()\n"
   ]
  },
  {
   "attachments": {},
   "cell_type": "markdown",
   "metadata": {},
   "source": [
    "RoboGardenVision_remapped_aug_on_640x640.yolov8"
   ]
  },
  {
   "cell_type": "code",
   "execution_count": 38,
   "metadata": {},
   "outputs": [],
   "source": [
    "findReplace('RoboGardenVision_remapped_aug_on_640x640.yolov8/test/labels/','0','8',\"*.txt\")\n",
    "findReplace('RoboGardenVision_remapped_aug_on_640x640.yolov8/test/labels/','1','9',\"*.txt\")\n",
    "findReplace('RoboGardenVision_remapped_aug_on_640x640.yolov8/test/labels/','2','10',\"*.txt\")\n",
    "findReplace('RoboGardenVision_remapped_aug_on_640x640.yolov8/test/labels/','3','11',\"*.txt\")"
   ]
  },
  {
   "cell_type": "code",
   "execution_count": 39,
   "metadata": {},
   "outputs": [],
   "source": [
    "findReplace('RoboGardenVision_remapped_aug_on_640x640.yolov8/train/labels/','0','8',\"*.txt\")\n",
    "findReplace('RoboGardenVision_remapped_aug_on_640x640.yolov8/train/labels/','1','9',\"*.txt\")\n",
    "findReplace('RoboGardenVision_remapped_aug_on_640x640.yolov8/train/labels/','2','10',\"*.txt\")\n",
    "findReplace('RoboGardenVision_remapped_aug_on_640x640.yolov8/train/labels/','3','11',\"*.txt\")"
   ]
  },
  {
   "cell_type": "code",
   "execution_count": 40,
   "metadata": {},
   "outputs": [],
   "source": [
    "findReplace('RoboGardenVision_remapped_aug_on_640x640.yolov8/valid/labels/','0','8',\"*.txt\")\n",
    "findReplace('RoboGardenVision_remapped_aug_on_640x640.yolov8/valid/labels/','1','9',\"*.txt\")\n",
    "findReplace('RoboGardenVision_remapped_aug_on_640x640.yolov8/valid/labels/','2','10',\"*.txt\")\n",
    "findReplace('RoboGardenVision_remapped_aug_on_640x640.yolov8/valid/labels/','3','11',\"*.txt\")"
   ]
  },
  {
   "attachments": {},
   "cell_type": "markdown",
   "metadata": {},
   "source": [
    "Face_Detection.v18-yolov8.yolov8"
   ]
  },
  {
   "cell_type": "code",
   "execution_count": 41,
   "metadata": {},
   "outputs": [],
   "source": [
    "findReplace('Face_Detection.v18-yolov8.yolov8/test/labels/','0','12',\"*.txt\")"
   ]
  },
  {
   "cell_type": "code",
   "execution_count": 42,
   "metadata": {},
   "outputs": [],
   "source": [
    "findReplace('Face_Detection.v18-yolov8.yolov8/train/labels/','0','12',\"*.txt\")"
   ]
  },
  {
   "cell_type": "code",
   "execution_count": 43,
   "metadata": {},
   "outputs": [],
   "source": [
    "findReplace('Face_Detection.v18-yolov8.yolov8/valid/labels/','0','12',\"*.txt\")"
   ]
  },
  {
   "attachments": {},
   "cell_type": "markdown",
   "metadata": {},
   "source": [
    "Fall_Detection.v4-resized640_aug3x-accurate.yolov8"
   ]
  },
  {
   "cell_type": "code",
   "execution_count": 44,
   "metadata": {},
   "outputs": [],
   "source": [
    "findReplace('Fall_Detection.v4-resized640_aug3x-accurate.yolov8/test/labels/','0','13',\"*.txt\")"
   ]
  },
  {
   "cell_type": "code",
   "execution_count": 45,
   "metadata": {},
   "outputs": [],
   "source": [
    "findReplace('Fall_Detection.v4-resized640_aug3x-accurate.yolov8/train/labels/','0','13',\"*.txt\")"
   ]
  },
  {
   "cell_type": "code",
   "execution_count": 46,
   "metadata": {},
   "outputs": [],
   "source": [
    "findReplace('Fall_Detection.v4-resized640_aug3x-accurate.yolov8/valid/labels/','0','13',\"*.txt\")"
   ]
  },
  {
   "attachments": {},
   "cell_type": "markdown",
   "metadata": {},
   "source": [
    "Smoke100.v4-640x640-m-h-l.yolov8"
   ]
  },
  {
   "cell_type": "code",
   "execution_count": 47,
   "metadata": {},
   "outputs": [],
   "source": [
    "findReplace('Smoke100.v4-640x640-m-h-l.yolov8/test/labels/','0','14',\"*.txt\")"
   ]
  },
  {
   "cell_type": "code",
   "execution_count": 48,
   "metadata": {},
   "outputs": [],
   "source": [
    "findReplace('Smoke100.v4-640x640-m-h-l.yolov8/train/labels/','0','14',\"*.txt\")"
   ]
  },
  {
   "cell_type": "code",
   "execution_count": 49,
   "metadata": {},
   "outputs": [],
   "source": [
    "findReplace('Smoke100.v4-640x640-m-h-l.yolov8/valid/labels/','0','14',\"*.txt\")"
   ]
  }
 ],
 "metadata": {
  "kernelspec": {
   "display_name": "Python 3",
   "language": "python",
   "name": "python3"
  },
  "language_info": {
   "codemirror_mode": {
    "name": "ipython",
    "version": 3
   },
   "file_extension": ".py",
   "mimetype": "text/x-python",
   "name": "python",
   "nbconvert_exporter": "python",
   "pygments_lexer": "ipython3",
   "version": "3.10.10"
  },
  "orig_nbformat": 4
 },
 "nbformat": 4,
 "nbformat_minor": 2
}
