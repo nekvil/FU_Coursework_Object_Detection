{
 "cells": [
  {
   "cell_type": "code",
   "execution_count": 13,
   "metadata": {},
   "outputs": [],
   "source": [
    "import fiftyone as fo\n",
    "import fiftyone.zoo as foz"
   ]
  },
  {
   "cell_type": "code",
   "execution_count": 14,
   "metadata": {},
   "outputs": [
    {
     "name": "stdout",
     "output_type": "stream",
     "text": [
      "Downloading split 'train' to 'C:\\Users\\Fomichev Nikita\\fiftyone\\coco-2017\\train' if necessary\n",
      "Found annotations at 'C:\\Users\\Fomichev Nikita\\fiftyone\\coco-2017\\raw\\instances_train2017.json'\n",
      "Sufficient images already downloaded\n",
      "Existing download of split 'train' is sufficient\n",
      "Downloading split 'validation' to 'C:\\Users\\Fomichev Nikita\\fiftyone\\coco-2017\\validation' if necessary\n",
      "Found annotations at 'C:\\Users\\Fomichev Nikita\\fiftyone\\coco-2017\\raw\\instances_val2017.json'\n",
      "Sufficient images already downloaded\n",
      "Existing download of split 'validation' is sufficient\n",
      "Downloading split 'test' to 'C:\\Users\\Fomichev Nikita\\fiftyone\\coco-2017\\test' if necessary\n",
      "Test split is unlabeled; ignoring classes requirement\n",
      "Found test info at 'C:\\Users\\Fomichev Nikita\\fiftyone\\coco-2017\\raw\\image_info_test2017.json'\n",
      "Images already downloaded\n",
      "Existing download of split 'test' is sufficient\n",
      "Loading existing dataset 'coco-2017-train-validation-test'. To reload from disk, either delete the existing dataset or provide a custom `dataset_name` to use\n"
     ]
    }
   ],
   "source": [
    "dataset = foz.load_zoo_dataset(\n",
    "    \"coco-2017\",\n",
    "    splits=[\"train\", \"validation\", \"test\"],\n",
    "    label_types=[\"detections\"],\n",
    "    classes=[\"person\", \"dog\", \"horse\", \"bird\", \"cat\", \"bear\", \"sheep\", \"cow\"],\n",
    "    only_matching=True,\n",
    ")"
   ]
  },
  {
   "cell_type": "code",
   "execution_count": 15,
   "metadata": {},
   "outputs": [
    {
     "name": "stdout",
     "output_type": "stream",
     "text": [
      "Dataset:     coco-2017-train-validation-test\n",
      "Media type:  image\n",
      "Num samples: 119834\n",
      "Sample fields:\n",
      "    id:           fiftyone.core.fields.ObjectIdField\n",
      "    filepath:     fiftyone.core.fields.StringField\n",
      "    tags:         fiftyone.core.fields.ListField(fiftyone.core.fields.StringField)\n",
      "    metadata:     fiftyone.core.fields.EmbeddedDocumentField(fiftyone.core.metadata.ImageMetadata)\n",
      "    ground_truth: fiftyone.core.fields.EmbeddedDocumentField(fiftyone.core.labels.Detections)\n",
      "View stages:\n",
      "    ---\n"
     ]
    }
   ],
   "source": [
    "view = dataset.view()\n",
    "print(view)"
   ]
  },
  {
   "cell_type": "code",
   "execution_count": 16,
   "metadata": {},
   "outputs": [
    {
     "name": "stdout",
     "output_type": "stream",
     "text": [
      "{'bear': 1365, 'cat': 4970, 'person': 273469, 'bird': 11246, 'dog': 5726, 'horse': 6860, 'sheep': 9870, 'cow': 8527}\n"
     ]
    }
   ],
   "source": [
    "counts = dataset.count_values(\"ground_truth.detections.label\")\n",
    "print(counts)"
   ]
  },
  {
   "cell_type": "code",
   "execution_count": null,
   "metadata": {},
   "outputs": [],
   "source": [
    "session = fo.launch_app(dataset)"
   ]
  },
  {
   "cell_type": "code",
   "execution_count": 19,
   "metadata": {},
   "outputs": [
    {
     "name": "stdout",
     "output_type": "stream",
     "text": [
      " 100% |█████████████| 75959/75959 [4.4m elapsed, 0s remaining, 372.8 samples/s]      \n",
      "Directory 'COCO2020_15.yolov5_by_fiftyone_test' already exists; export will be merged with existing files\n",
      " 100% |███████████████| 3205/3205 [8.8s elapsed, 0s remaining, 364.2 samples/s]       \n",
      "Directory 'COCO2020_15.yolov5_by_fiftyone_test' already exists; export will be merged with existing files\n",
      " 100% |█████████████| 40670/40670 [59.9s elapsed, 0s remaining, 743.0 samples/s]      \n"
     ]
    }
   ],
   "source": [
    "export_dir = \"COCO2020_15.yolov5_by_fiftyone\"\n",
    "label_field = \"ground_truth\" \n",
    "\n",
    "splits = [\"train\", \"validation\", \"test\"]\n",
    "classes = [\"person\", \"dog\", \"horse\", \"bird\", \"cat\", \"bear\", \"sheep\", \"cow\"]\n",
    "\n",
    "for split in splits:\n",
    "    split_view = dataset.match_tags(split)\n",
    "    split_view.export(\n",
    "        export_dir=export_dir,\n",
    "        dataset_type=fo.types.YOLOv5Dataset,\n",
    "        label_field=label_field,\n",
    "        split=split,\n",
    "        classes=classes,\n",
    "    )"
   ]
  }
 ],
 "metadata": {
  "kernelspec": {
   "display_name": "Python 3",
   "language": "python",
   "name": "python3"
  },
  "language_info": {
   "codemirror_mode": {
    "name": "ipython",
    "version": 3
   },
   "file_extension": ".py",
   "mimetype": "text/x-python",
   "name": "python",
   "nbconvert_exporter": "python",
   "pygments_lexer": "ipython3",
   "version": "3.10.10"
  },
  "orig_nbformat": 4
 },
 "nbformat": 4,
 "nbformat_minor": 2
}
