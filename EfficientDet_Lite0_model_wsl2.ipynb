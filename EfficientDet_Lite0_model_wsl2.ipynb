{
  "cells": [
    {
      "cell_type": "code",
      "execution_count": 1,
      "metadata": {
        "colab": {
          "base_uri": "https://localhost:8080/"
        },
        "id": "QmlVgt1ffgA1",
        "outputId": "7064532b-fe04-4b05-8bf8-cbabb19b5ae0"
      },
      "outputs": [
        {
          "name": "stderr",
          "output_type": "stream",
          "text": [
            "/home/fomchv/.local/lib/python3.9/site-packages/tensorflow_addons/utils/tfa_eol_msg.py:23: UserWarning: \n",
            "\n",
            "TensorFlow Addons (TFA) has ended development and introduction of new features.\n",
            "TFA has entered a minimal maintenance and release mode until a planned end of life in May 2024.\n",
            "Please modify downstream libraries to take dependencies from other repositories in our TensorFlow community (e.g. Keras, Keras-CV, and Keras-NLP). \n",
            "\n",
            "For more information see: https://github.com/tensorflow/addons/issues/2807 \n",
            "\n",
            "  warnings.warn(\n",
            "/home/fomchv/.local/lib/python3.9/site-packages/tensorflow_addons/utils/ensure_tf_install.py:53: UserWarning: Tensorflow Addons supports using Python ops for all Tensorflow versions above or equal to 2.10.0 and strictly below 2.13.0 (nightly versions are not supported). \n",
            " The versions of TensorFlow you are currently using is 2.8.4 and is not supported. \n",
            "Some things might work, some things might not.\n",
            "If you were to encounter a bug, do not file an issue.\n",
            "If you want to make sure you're using a tested and supported configuration, either change the TensorFlow version or the TensorFlow Addons's version. \n",
            "You can find the compatibility matrix in TensorFlow Addon's readme:\n",
            "https://github.com/tensorflow/addons\n",
            "  warnings.warn(\n",
            "/home/fomchv/.local/lib/python3.9/site-packages/tqdm/auto.py:21: TqdmWarning: IProgress not found. Please update jupyter and ipywidgets. See https://ipywidgets.readthedocs.io/en/stable/user_install.html\n",
            "  from .autonotebook import tqdm as notebook_tqdm\n"
          ]
        }
      ],
      "source": [
        "import numpy as np\n",
        "import os\n",
        "\n",
        "from tflite_model_maker.config import QuantizationConfig\n",
        "from tflite_model_maker.config import ExportFormat\n",
        "from tflite_model_maker import model_spec\n",
        "from tflite_model_maker import object_detector\n",
        "\n",
        "import tensorflow as tf\n",
        "assert tf.__version__.startswith('2')\n",
        "\n",
        "tf.get_logger().setLevel('ERROR')\n",
        "from absl import logging\n",
        "logging.set_verbosity(logging.ERROR)"
      ]
    },
    {
      "cell_type": "code",
      "execution_count": 2,
      "metadata": {},
      "outputs": [],
      "source": [
        "import tensorflow as tf"
      ]
    },
    {
      "cell_type": "code",
      "execution_count": 3,
      "metadata": {
        "vscode": {
          "languageId": "powershell"
        }
      },
      "outputs": [
        {
          "name": "stdout",
          "output_type": "stream",
          "text": [
            "/bin/bash: /home/fomchv/miniconda3/envs/tf/lib/libtinfo.so.6: no version information available (required by /bin/bash)\n",
            "Sat May 13 04:35:20 2023       \n",
            "+---------------------------------------------------------------------------------------+\n",
            "| NVIDIA-SMI 530.41.03              Driver Version: 531.61       CUDA Version: 12.1     |\n",
            "|-----------------------------------------+----------------------+----------------------+\n",
            "| GPU  Name                  Persistence-M| Bus-Id        Disp.A | Volatile Uncorr. ECC |\n",
            "| Fan  Temp  Perf            Pwr:Usage/Cap|         Memory-Usage | GPU-Util  Compute M. |\n",
            "|                                         |                      |               MIG M. |\n",
            "|=========================================+======================+======================|\n",
            "|   0  NVIDIA GeForce RTX 3060         On | 00000000:01:00.0  On |                  N/A |\n",
            "| 42%   35C    P5               14W / 190W|    701MiB / 12288MiB |     14%      Default |\n",
            "|                                         |                      |                  N/A |\n",
            "+-----------------------------------------+----------------------+----------------------+\n",
            "                                                                                         \n",
            "+---------------------------------------------------------------------------------------+\n",
            "| Processes:                                                                            |\n",
            "|  GPU   GI   CI        PID   Type   Process name                            GPU Memory |\n",
            "|        ID   ID                                                             Usage      |\n",
            "|=======================================================================================|\n",
            "|    0   N/A  N/A        23      G   /Xwayland                                 N/A      |\n",
            "+---------------------------------------------------------------------------------------+\n"
          ]
        }
      ],
      "source": [
        "!nvidia-smi"
      ]
    },
    {
      "cell_type": "code",
      "execution_count": 4,
      "metadata": {},
      "outputs": [
        {
          "name": "stdout",
          "output_type": "stream",
          "text": [
            "[PhysicalDevice(name='/physical_device:GPU:0', device_type='GPU')]\n"
          ]
        }
      ],
      "source": [
        "print(tf.config.list_physical_devices('GPU'))"
      ]
    },
    {
      "cell_type": "code",
      "execution_count": 5,
      "metadata": {
        "id": "OlGQwZ99fgnw"
      },
      "outputs": [],
      "source": [
        "test_dir = \"dataset/COCO2020_15.voc/test\"\n",
        "train_dir = \"dataset/COCO2020_15.voc/train\"\n",
        "validation_dir = \"dataset/COCO2020_15.voc/val\"\n",
        "classes = [\"person\", \"dog\", \"horse\", \"bird\", \"cat\", \"bear\", \"sheep\", \"cow\", \"apple_green\", \"apple_mechanic\", \"apple_parsha\", \"apple_red\", \"face\", \"Fall-Detected\", \"smoke\"]"
      ]
    },
    {
      "cell_type": "code",
      "execution_count": 6,
      "metadata": {
        "id": "B1F0a0h6fjvN"
      },
      "outputs": [],
      "source": [
        "test_data = object_detector.DataLoader.from_pascal_voc(test_dir, test_dir, classes)\n",
        "train_data = object_detector.DataLoader.from_pascal_voc(train_dir, train_dir, classes)\n",
        "validation_data = object_detector.DataLoader.from_pascal_voc(validation_dir, validation_dir, classes)"
      ]
    },
    {
      "cell_type": "code",
      "execution_count": 7,
      "metadata": {
        "id": "EilfbLQ6fj65"
      },
      "outputs": [],
      "source": [
        "spec = object_detector.EfficientDetSpec(\n",
        "  model_name='efficientdet-lite0', \n",
        "  uri='https://tfhub.dev/tensorflow/efficientdet/lite0/feature-vector/1', \n",
        "  hparams={'max_instances_per_image': 8000})"
      ]
    },
    {
      "cell_type": "code",
      "execution_count": 8,
      "metadata": {
        "colab": {
          "base_uri": "https://localhost:8080/",
          "height": 487
        },
        "id": "0YpKHoXMfl1f",
        "outputId": "883cd8ee-a54f-4bd7-f5bc-d084fd812e82"
      },
      "outputs": [
        {
          "name": "stdout",
          "output_type": "stream",
          "text": [
            "Epoch 1/50\n"
          ]
        },
        {
          "name": "stderr",
          "output_type": "stream",
          "text": [
            "2023-05-13 05:05:08.575535: W tensorflow/core/framework/cpu_allocator_impl.cc:82] Allocation of 26214400 exceeds 10% of free system memory.\n",
            "2023-05-13 05:05:08.758313: W tensorflow/core/framework/cpu_allocator_impl.cc:82] Allocation of 26214400 exceeds 10% of free system memory.\n",
            "2023-05-13 05:05:08.758380: W tensorflow/core/framework/cpu_allocator_impl.cc:82] Allocation of 26214400 exceeds 10% of free system memory.\n",
            "2023-05-13 05:05:08.764712: W tensorflow/core/framework/cpu_allocator_impl.cc:82] Allocation of 26214400 exceeds 10% of free system memory.\n",
            "2023-05-13 05:05:10.081309: W tensorflow/core/framework/cpu_allocator_impl.cc:82] Allocation of 26214400 exceeds 10% of free system memory.\n"
          ]
        },
        {
          "name": "stdout",
          "output_type": "stream",
          "text": [
            "6566/6566 [==============================] - 1966s 296ms/step - det_loss: 0.7881 - cls_loss: 0.4969 - box_loss: 0.0058 - reg_l2_loss: 0.0701 - loss: 0.8581 - learning_rate: 0.0140 - gradient_norm: 2.4146 - val_det_loss: 0.9585 - val_cls_loss: 0.6545 - val_box_loss: 0.0061 - val_reg_l2_loss: 0.0763 - val_loss: 1.0348\n",
            "Epoch 2/50\n",
            "6566/6566 [==============================] - 1940s 295ms/step - det_loss: 0.7125 - cls_loss: 0.4426 - box_loss: 0.0054 - reg_l2_loss: 0.0825 - loss: 0.7951 - learning_rate: 0.0200 - gradient_norm: 1.8835 - val_det_loss: 0.7212 - val_cls_loss: 0.4434 - val_box_loss: 0.0056 - val_reg_l2_loss: 0.0879 - val_loss: 0.8091\n",
            "Epoch 3/50\n",
            "6566/6566 [==============================] - 1926s 293ms/step - det_loss: 0.6525 - cls_loss: 0.3978 - box_loss: 0.0051 - reg_l2_loss: 0.0922 - loss: 0.7447 - learning_rate: 0.0199 - gradient_norm: 1.7631 - val_det_loss: 0.5345 - val_cls_loss: 0.3637 - val_box_loss: 0.0034 - val_reg_l2_loss: 0.0957 - val_loss: 0.6302\n",
            "Epoch 4/50\n",
            "6566/6566 [==============================] - 1926s 293ms/step - det_loss: 0.6215 - cls_loss: 0.3755 - box_loss: 0.0049 - reg_l2_loss: 0.0987 - loss: 0.7203 - learning_rate: 0.0197 - gradient_norm: 1.6890 - val_det_loss: 0.4896 - val_cls_loss: 0.3320 - val_box_loss: 0.0032 - val_reg_l2_loss: 0.1013 - val_loss: 0.5909\n",
            "Epoch 5/50\n",
            "6566/6566 [==============================] - 2082s 317ms/step - det_loss: 0.6014 - cls_loss: 0.3609 - box_loss: 0.0048 - reg_l2_loss: 0.1035 - loss: 0.7049 - learning_rate: 0.0196 - gradient_norm: 1.6501 - val_det_loss: 0.5638 - val_cls_loss: 0.3252 - val_box_loss: 0.0048 - val_reg_l2_loss: 0.1053 - val_loss: 0.6692\n",
            "Epoch 6/50\n",
            "6566/6566 [==============================] - 1923s 293ms/step - det_loss: 0.5877 - cls_loss: 0.3520 - box_loss: 0.0047 - reg_l2_loss: 0.1069 - loss: 0.6946 - learning_rate: 0.0194 - gradient_norm: 1.6147 - val_det_loss: 0.6084 - val_cls_loss: 0.3420 - val_box_loss: 0.0053 - val_reg_l2_loss: 0.1082 - val_loss: 0.7165\n",
            "Epoch 7/50\n",
            "6566/6566 [==============================] - 1927s 294ms/step - det_loss: 0.5786 - cls_loss: 0.3457 - box_loss: 0.0047 - reg_l2_loss: 0.1093 - loss: 0.6879 - learning_rate: 0.0191 - gradient_norm: 1.5876 - val_det_loss: 0.5115 - val_cls_loss: 0.3459 - val_box_loss: 0.0033 - val_reg_l2_loss: 0.1101 - val_loss: 0.6216\n",
            "Epoch 8/50\n",
            "6566/6566 [==============================] - 1932s 294ms/step - det_loss: 0.5696 - cls_loss: 0.3402 - box_loss: 0.0046 - reg_l2_loss: 0.1109 - loss: 0.6806 - learning_rate: 0.0189 - gradient_norm: 1.5831 - val_det_loss: 0.4791 - val_cls_loss: 0.3038 - val_box_loss: 0.0035 - val_reg_l2_loss: 0.1115 - val_loss: 0.5906\n",
            "Epoch 9/50\n",
            "6566/6566 [==============================] - 1933s 294ms/step - det_loss: 0.5599 - cls_loss: 0.3340 - box_loss: 0.0045 - reg_l2_loss: 0.1118 - loss: 0.6717 - learning_rate: 0.0185 - gradient_norm: 1.5654 - val_det_loss: 0.5526 - val_cls_loss: 0.3831 - val_box_loss: 0.0034 - val_reg_l2_loss: 0.1122 - val_loss: 0.6647\n",
            "Epoch 10/50\n",
            "6566/6566 [==============================] - 2204s 336ms/step - det_loss: 0.5570 - cls_loss: 0.3327 - box_loss: 0.0045 - reg_l2_loss: 0.1124 - loss: 0.6694 - learning_rate: 0.0182 - gradient_norm: 1.5641 - val_det_loss: 0.4989 - val_cls_loss: 0.3121 - val_box_loss: 0.0037 - val_reg_l2_loss: 0.1127 - val_loss: 0.6116\n",
            "Epoch 11/50\n",
            "6566/6566 [==============================] - 1973s 300ms/step - det_loss: 0.5496 - cls_loss: 0.3278 - box_loss: 0.0044 - reg_l2_loss: 0.1129 - loss: 0.6625 - learning_rate: 0.0178 - gradient_norm: 1.5620 - val_det_loss: 0.3942 - val_cls_loss: 0.2737 - val_box_loss: 0.0024 - val_reg_l2_loss: 0.1129 - val_loss: 0.5071\n",
            "Epoch 12/50\n",
            "6566/6566 [==============================] - 1930s 294ms/step - det_loss: 0.5455 - cls_loss: 0.3248 - box_loss: 0.0044 - reg_l2_loss: 0.1128 - loss: 0.6584 - learning_rate: 0.0174 - gradient_norm: 1.5599 - val_det_loss: 0.5766 - val_cls_loss: 0.4212 - val_box_loss: 0.0031 - val_reg_l2_loss: 0.1128 - val_loss: 0.6894\n",
            "Epoch 13/50\n",
            "6566/6566 [==============================] - 1930s 294ms/step - det_loss: 0.5428 - cls_loss: 0.3232 - box_loss: 0.0044 - reg_l2_loss: 0.1127 - loss: 0.6555 - learning_rate: 0.0170 - gradient_norm: 1.5799 - val_det_loss: 0.7094 - val_cls_loss: 0.5233 - val_box_loss: 0.0037 - val_reg_l2_loss: 0.1127 - val_loss: 0.8220\n",
            "Epoch 14/50\n",
            "6566/6566 [==============================] - 1931s 294ms/step - det_loss: 0.5376 - cls_loss: 0.3197 - box_loss: 0.0044 - reg_l2_loss: 0.1125 - loss: 0.6502 - learning_rate: 0.0165 - gradient_norm: 1.5768 - val_det_loss: 0.5369 - val_cls_loss: 0.3696 - val_box_loss: 0.0033 - val_reg_l2_loss: 0.1123 - val_loss: 0.6492\n",
            "Epoch 15/50\n",
            "6566/6566 [==============================] - 2084s 317ms/step - det_loss: 0.5337 - cls_loss: 0.3177 - box_loss: 0.0043 - reg_l2_loss: 0.1120 - loss: 0.6457 - learning_rate: 0.0160 - gradient_norm: 1.5791 - val_det_loss: 0.4515 - val_cls_loss: 0.3130 - val_box_loss: 0.0028 - val_reg_l2_loss: 0.1116 - val_loss: 0.5631\n",
            "Epoch 16/50\n",
            "6566/6566 [==============================] - 1931s 294ms/step - det_loss: 0.5292 - cls_loss: 0.3155 - box_loss: 0.0043 - reg_l2_loss: 0.1113 - loss: 0.6405 - learning_rate: 0.0155 - gradient_norm: 1.5964 - val_det_loss: 0.3990 - val_cls_loss: 0.2618 - val_box_loss: 0.0027 - val_reg_l2_loss: 0.1110 - val_loss: 0.5101\n",
            "Epoch 17/50\n",
            "6566/6566 [==============================] - 1930s 294ms/step - det_loss: 0.5251 - cls_loss: 0.3127 - box_loss: 0.0042 - reg_l2_loss: 0.1107 - loss: 0.6358 - learning_rate: 0.0149 - gradient_norm: 1.5977 - val_det_loss: 0.4374 - val_cls_loss: 0.3043 - val_box_loss: 0.0027 - val_reg_l2_loss: 0.1103 - val_loss: 0.5476\n",
            "Epoch 18/50\n",
            "6566/6566 [==============================] - 1934s 295ms/step - det_loss: 0.5231 - cls_loss: 0.3113 - box_loss: 0.0042 - reg_l2_loss: 0.1100 - loss: 0.6331 - learning_rate: 0.0143 - gradient_norm: 1.6204 - val_det_loss: 0.4197 - val_cls_loss: 0.2930 - val_box_loss: 0.0025 - val_reg_l2_loss: 0.1096 - val_loss: 0.5292\n",
            "Epoch 19/50\n",
            "6566/6566 [==============================] - 1929s 294ms/step - det_loss: 0.5185 - cls_loss: 0.3084 - box_loss: 0.0042 - reg_l2_loss: 0.1091 - loss: 0.6277 - learning_rate: 0.0138 - gradient_norm: 1.6226 - val_det_loss: 0.5906 - val_cls_loss: 0.4691 - val_box_loss: 0.0024 - val_reg_l2_loss: 0.1087 - val_loss: 0.6992\n",
            "Epoch 20/50\n",
            "6566/6566 [==============================] - 2073s 316ms/step - det_loss: 0.5144 - cls_loss: 0.3059 - box_loss: 0.0042 - reg_l2_loss: 0.1082 - loss: 0.6226 - learning_rate: 0.0132 - gradient_norm: 1.6328 - val_det_loss: 0.6978 - val_cls_loss: 0.5442 - val_box_loss: 0.0031 - val_reg_l2_loss: 0.1077 - val_loss: 0.8054\n",
            "Epoch 21/50\n",
            "6566/6566 [==============================] - 1925s 293ms/step - det_loss: 0.5116 - cls_loss: 0.3040 - box_loss: 0.0042 - reg_l2_loss: 0.1072 - loss: 0.6188 - learning_rate: 0.0125 - gradient_norm: 1.6473 - val_det_loss: 0.5388 - val_cls_loss: 0.4034 - val_box_loss: 0.0027 - val_reg_l2_loss: 0.1066 - val_loss: 0.6454\n",
            "Epoch 22/50\n",
            "6566/6566 [==============================] - 1931s 294ms/step - det_loss: 0.5067 - cls_loss: 0.3015 - box_loss: 0.0041 - reg_l2_loss: 0.1061 - loss: 0.6128 - learning_rate: 0.0119 - gradient_norm: 1.6751 - val_det_loss: 0.5699 - val_cls_loss: 0.4513 - val_box_loss: 0.0024 - val_reg_l2_loss: 0.1056 - val_loss: 0.6755\n",
            "Epoch 23/50\n",
            "6566/6566 [==============================] - 1935s 295ms/step - det_loss: 0.5018 - cls_loss: 0.2984 - box_loss: 0.0041 - reg_l2_loss: 0.1050 - loss: 0.6068 - learning_rate: 0.0113 - gradient_norm: 1.6648 - val_det_loss: 0.5415 - val_cls_loss: 0.4028 - val_box_loss: 0.0028 - val_reg_l2_loss: 0.1043 - val_loss: 0.6458\n",
            "Epoch 24/50\n",
            "6566/6566 [==============================] - 1937s 295ms/step - det_loss: 0.4993 - cls_loss: 0.2970 - box_loss: 0.0040 - reg_l2_loss: 0.1038 - loss: 0.6031 - learning_rate: 0.0106 - gradient_norm: 1.7199 - val_det_loss: 0.5326 - val_cls_loss: 0.3757 - val_box_loss: 0.0031 - val_reg_l2_loss: 0.1033 - val_loss: 0.6359\n",
            "Epoch 25/50\n",
            "6566/6566 [==============================] - 2145s 327ms/step - det_loss: 0.4938 - cls_loss: 0.2934 - box_loss: 0.0040 - reg_l2_loss: 0.1027 - loss: 0.5965 - learning_rate: 0.0100 - gradient_norm: 1.7278 - val_det_loss: 0.6632 - val_cls_loss: 0.5403 - val_box_loss: 0.0025 - val_reg_l2_loss: 0.1021 - val_loss: 0.7653\n",
            "Epoch 26/50\n",
            "6566/6566 [==============================] - 2025s 308ms/step - det_loss: 0.4897 - cls_loss: 0.2909 - box_loss: 0.0040 - reg_l2_loss: 0.1015 - loss: 0.5912 - learning_rate: 0.0094 - gradient_norm: 1.7331 - val_det_loss: 0.5852 - val_cls_loss: 0.4364 - val_box_loss: 0.0030 - val_reg_l2_loss: 0.1009 - val_loss: 0.6860\n",
            "Epoch 27/50\n",
            "6566/6566 [==============================] - 2027s 309ms/step - det_loss: 0.4852 - cls_loss: 0.2884 - box_loss: 0.0039 - reg_l2_loss: 0.1002 - loss: 0.5854 - learning_rate: 0.0087 - gradient_norm: 1.7625 - val_det_loss: 0.4768 - val_cls_loss: 0.3381 - val_box_loss: 0.0028 - val_reg_l2_loss: 0.0996 - val_loss: 0.5765\n",
            "Epoch 28/50\n",
            "6566/6566 [==============================] - 2031s 309ms/step - det_loss: 0.4827 - cls_loss: 0.2870 - box_loss: 0.0039 - reg_l2_loss: 0.0990 - loss: 0.5817 - learning_rate: 0.0081 - gradient_norm: 1.7879 - val_det_loss: 0.3992 - val_cls_loss: 0.2901 - val_box_loss: 0.0022 - val_reg_l2_loss: 0.0984 - val_loss: 0.4976\n",
            "Epoch 29/50\n",
            "6566/6566 [==============================] - 2034s 310ms/step - det_loss: 0.4776 - cls_loss: 0.2843 - box_loss: 0.0039 - reg_l2_loss: 0.0978 - loss: 0.5754 - learning_rate: 0.0075 - gradient_norm: 1.8034 - val_det_loss: 0.4132 - val_cls_loss: 0.2927 - val_box_loss: 0.0024 - val_reg_l2_loss: 0.0972 - val_loss: 0.5104\n",
            "Epoch 30/50\n",
            "6566/6566 [==============================] - 2177s 332ms/step - det_loss: 0.4726 - cls_loss: 0.2812 - box_loss: 0.0038 - reg_l2_loss: 0.0966 - loss: 0.5692 - learning_rate: 0.0068 - gradient_norm: 1.8204 - val_det_loss: 0.4273 - val_cls_loss: 0.3179 - val_box_loss: 0.0022 - val_reg_l2_loss: 0.0960 - val_loss: 0.5233\n",
            "Epoch 31/50\n",
            "6566/6566 [==============================] - 2025s 308ms/step - det_loss: 0.4678 - cls_loss: 0.2781 - box_loss: 0.0038 - reg_l2_loss: 0.0954 - loss: 0.5632 - learning_rate: 0.0062 - gradient_norm: 1.8537 - val_det_loss: 0.4361 - val_cls_loss: 0.3438 - val_box_loss: 0.0018 - val_reg_l2_loss: 0.0948 - val_loss: 0.5309\n",
            "Epoch 32/50\n",
            "6566/6566 [==============================] - 2023s 308ms/step - det_loss: 0.4637 - cls_loss: 0.2759 - box_loss: 0.0038 - reg_l2_loss: 0.0942 - loss: 0.5580 - learning_rate: 0.0057 - gradient_norm: 1.8730 - val_det_loss: 0.4177 - val_cls_loss: 0.3118 - val_box_loss: 0.0021 - val_reg_l2_loss: 0.0937 - val_loss: 0.5114\n",
            "Epoch 33/50\n",
            "6566/6566 [==============================] - 2027s 309ms/step - det_loss: 0.4599 - cls_loss: 0.2735 - box_loss: 0.0037 - reg_l2_loss: 0.0931 - loss: 0.5529 - learning_rate: 0.0051 - gradient_norm: 1.8781 - val_det_loss: 0.4758 - val_cls_loss: 0.3491 - val_box_loss: 0.0025 - val_reg_l2_loss: 0.0925 - val_loss: 0.5683\n",
            "Epoch 34/50\n",
            "6566/6566 [==============================] - 2028s 309ms/step - det_loss: 0.4546 - cls_loss: 0.2704 - box_loss: 0.0037 - reg_l2_loss: 0.0920 - loss: 0.5466 - learning_rate: 0.0045 - gradient_norm: 1.9174 - val_det_loss: 0.5144 - val_cls_loss: 0.3873 - val_box_loss: 0.0025 - val_reg_l2_loss: 0.0914 - val_loss: 0.6058\n",
            "Epoch 35/50\n",
            "6566/6566 [==============================] - 2180s 332ms/step - det_loss: 0.4501 - cls_loss: 0.2675 - box_loss: 0.0037 - reg_l2_loss: 0.0909 - loss: 0.5410 - learning_rate: 0.0040 - gradient_norm: 1.9368 - val_det_loss: 0.4335 - val_cls_loss: 0.3468 - val_box_loss: 0.0017 - val_reg_l2_loss: 0.0904 - val_loss: 0.5239\n",
            "Epoch 36/50\n",
            "6566/6566 [==============================] - 2070s 315ms/step - det_loss: 0.4439 - cls_loss: 0.2641 - box_loss: 0.0036 - reg_l2_loss: 0.0899 - loss: 0.5338 - learning_rate: 0.0035 - gradient_norm: 1.9556 - val_det_loss: 0.4055 - val_cls_loss: 0.3016 - val_box_loss: 0.0021 - val_reg_l2_loss: 0.0895 - val_loss: 0.4949\n",
            "Epoch 37/50\n",
            "6566/6566 [==============================] - 2084s 317ms/step - det_loss: 0.4406 - cls_loss: 0.2619 - box_loss: 0.0036 - reg_l2_loss: 0.0890 - loss: 0.5296 - learning_rate: 0.0030 - gradient_norm: 1.9638 - val_det_loss: 0.5512 - val_cls_loss: 0.4413 - val_box_loss: 0.0022 - val_reg_l2_loss: 0.0886 - val_loss: 0.6398\n",
            "Epoch 38/50\n",
            "6566/6566 [==============================] - 2037s 310ms/step - det_loss: 0.4365 - cls_loss: 0.2594 - box_loss: 0.0035 - reg_l2_loss: 0.0882 - loss: 0.5247 - learning_rate: 0.0026 - gradient_norm: 1.9873 - val_det_loss: 0.3233 - val_cls_loss: 0.2397 - val_box_loss: 0.0017 - val_reg_l2_loss: 0.0878 - val_loss: 0.4111\n",
            "Epoch 39/50\n",
            "6566/6566 [==============================] - 2056s 313ms/step - det_loss: 0.4325 - cls_loss: 0.2575 - box_loss: 0.0035 - reg_l2_loss: 0.0874 - loss: 0.5199 - learning_rate: 0.0022 - gradient_norm: 2.0006 - val_det_loss: 0.3727 - val_cls_loss: 0.2780 - val_box_loss: 0.0019 - val_reg_l2_loss: 0.0871 - val_loss: 0.4598\n",
            "Epoch 40/50\n",
            "6566/6566 [==============================] - 2321s 354ms/step - det_loss: 0.4298 - cls_loss: 0.2557 - box_loss: 0.0035 - reg_l2_loss: 0.0868 - loss: 0.5166 - learning_rate: 0.0018 - gradient_norm: 2.0239 - val_det_loss: 0.4725 - val_cls_loss: 0.3690 - val_box_loss: 0.0021 - val_reg_l2_loss: 0.0865 - val_loss: 0.5590\n",
            "Epoch 41/50\n",
            "6566/6566 [==============================] - 2060s 314ms/step - det_loss: 0.4253 - cls_loss: 0.2528 - box_loss: 0.0034 - reg_l2_loss: 0.0862 - loss: 0.5115 - learning_rate: 0.0015 - gradient_norm: 2.0389 - val_det_loss: 0.3948 - val_cls_loss: 0.3035 - val_box_loss: 0.0018 - val_reg_l2_loss: 0.0860 - val_loss: 0.4808\n",
            "Epoch 42/50\n",
            "6566/6566 [==============================] - 2014s 307ms/step - det_loss: 0.4224 - cls_loss: 0.2511 - box_loss: 0.0034 - reg_l2_loss: 0.0858 - loss: 0.5081 - learning_rate: 0.0011 - gradient_norm: 2.0519 - val_det_loss: 0.3986 - val_cls_loss: 0.3054 - val_box_loss: 0.0019 - val_reg_l2_loss: 0.0856 - val_loss: 0.4842\n",
            "Epoch 43/50\n",
            "6566/6566 [==============================] - 2039s 311ms/step - det_loss: 0.4207 - cls_loss: 0.2501 - box_loss: 0.0034 - reg_l2_loss: 0.0854 - loss: 0.5061 - learning_rate: 8.5744e-04 - gradient_norm: 2.0650 - val_det_loss: 0.3668 - val_cls_loss: 0.2763 - val_box_loss: 0.0018 - val_reg_l2_loss: 0.0852 - val_loss: 0.4520\n",
            "Epoch 44/50\n",
            "6566/6566 [==============================] - 1976s 301ms/step - det_loss: 0.4173 - cls_loss: 0.2483 - box_loss: 0.0034 - reg_l2_loss: 0.0851 - loss: 0.5024 - learning_rate: 6.1692e-04 - gradient_norm: 2.0498 - val_det_loss: 0.3790 - val_cls_loss: 0.2887 - val_box_loss: 0.0018 - val_reg_l2_loss: 0.0850 - val_loss: 0.4640\n",
            "Epoch 45/50\n",
            "6566/6566 [==============================] - 2090s 318ms/step - det_loss: 0.4163 - cls_loss: 0.2479 - box_loss: 0.0034 - reg_l2_loss: 0.0849 - loss: 0.5012 - learning_rate: 4.1496e-04 - gradient_norm: 2.0569 - val_det_loss: 0.4241 - val_cls_loss: 0.3281 - val_box_loss: 0.0019 - val_reg_l2_loss: 0.0848 - val_loss: 0.5090\n",
            "Epoch 46/50\n",
            "6566/6566 [==============================] - 1928s 294ms/step - det_loss: 0.4155 - cls_loss: 0.2467 - box_loss: 0.0034 - reg_l2_loss: 0.0848 - loss: 0.5002 - learning_rate: 2.5239e-04 - gradient_norm: 2.0777 - val_det_loss: 0.4161 - val_cls_loss: 0.3198 - val_box_loss: 0.0019 - val_reg_l2_loss: 0.0847 - val_loss: 0.5009\n",
            "Epoch 47/50\n",
            "6566/6566 [==============================] - 1932s 294ms/step - det_loss: 0.4136 - cls_loss: 0.2460 - box_loss: 0.0034 - reg_l2_loss: 0.0847 - loss: 0.4983 - learning_rate: 1.2987e-04 - gradient_norm: 2.0723 - val_det_loss: 0.4202 - val_cls_loss: 0.3256 - val_box_loss: 0.0019 - val_reg_l2_loss: 0.0847 - val_loss: 0.5049\n",
            "Epoch 48/50\n",
            "6566/6566 [==============================] - 1926s 293ms/step - det_loss: 0.4125 - cls_loss: 0.2455 - box_loss: 0.0033 - reg_l2_loss: 0.0847 - loss: 0.4972 - learning_rate: 4.7914e-05 - gradient_norm: 2.0639 - val_det_loss: 0.4077 - val_cls_loss: 0.3140 - val_box_loss: 0.0019 - val_reg_l2_loss: 0.0846 - val_loss: 0.4923\n",
            "Epoch 49/50\n",
            "6566/6566 [==============================] - 1929s 294ms/step - det_loss: 0.4129 - cls_loss: 0.2458 - box_loss: 0.0033 - reg_l2_loss: 0.0846 - loss: 0.4976 - learning_rate: 6.8501e-06 - gradient_norm: 2.0688 - val_det_loss: 0.3939 - val_cls_loss: 0.3003 - val_box_loss: 0.0019 - val_reg_l2_loss: 0.0846 - val_loss: 0.4786\n",
            "Epoch 50/50\n",
            "6566/6566 [==============================] - 2085s 318ms/step - det_loss: 0.4133 - cls_loss: 0.2460 - box_loss: 0.0033 - reg_l2_loss: 0.0846 - loss: 0.4980 - learning_rate: 6.8502e-06 - gradient_norm: 2.0726 - val_det_loss: 0.4031 - val_cls_loss: 0.3100 - val_box_loss: 0.0019 - val_reg_l2_loss: 0.0846 - val_loss: 0.4877\n"
          ]
        }
      ],
      "source": [
        "model = object_detector.create(train_data, model_spec=spec, batch_size=16, epochs=50, train_whole_model=True, validation_data=validation_data)"
      ]
    },
    {
      "cell_type": "code",
      "execution_count": 9,
      "metadata": {
        "id": "_KbsodXRfqLw"
      },
      "outputs": [
        {
          "name": "stdout",
          "output_type": "stream",
          "text": [
            "44/44 [==============================] - 59s 997ms/step\n",
            "\n"
          ]
        },
        {
          "data": {
            "text/plain": [
              "{'AP': 0.44065306,\n",
              " 'AP50': 0.73047996,\n",
              " 'AP75': 0.47244507,\n",
              " 'APs': 0.057610672,\n",
              " 'APm': 0.2813835,\n",
              " 'APl': 0.50935096,\n",
              " 'ARmax1': 0.33374017,\n",
              " 'ARmax10': 0.5188353,\n",
              " 'ARmax100': 0.57885915,\n",
              " 'ARs': 0.079791665,\n",
              " 'ARm': 0.45437503,\n",
              " 'ARl': 0.6433888,\n",
              " 'AP_/person': -1.0,\n",
              " 'AP_/dog': -1.0,\n",
              " 'AP_/horse': -1.0,\n",
              " 'AP_/bird': -1.0,\n",
              " 'AP_/cat': -1.0,\n",
              " 'AP_/bear': -1.0,\n",
              " 'AP_/sheep': -1.0,\n",
              " 'AP_/cow': -1.0,\n",
              " 'AP_/apple_green': 0.4518711,\n",
              " 'AP_/apple_mechanic': 0.36539876,\n",
              " 'AP_/apple_parsha': 0.29094112,\n",
              " 'AP_/apple_red': 0.33440575,\n",
              " 'AP_/face': 0.39335617,\n",
              " 'AP_/Fall-Detected': 0.42356774,\n",
              " 'AP_/smoke': 0.8250307}"
            ]
          },
          "execution_count": 9,
          "metadata": {},
          "output_type": "execute_result"
        }
      ],
      "source": [
        "model.evaluate(test_data)"
      ]
    },
    {
      "cell_type": "code",
      "execution_count": 10,
      "metadata": {
        "id": "ZF_eFlyXft3p"
      },
      "outputs": [
        {
          "name": "stderr",
          "output_type": "stream",
          "text": [
            "2023-05-14 09:01:12.358024: W tensorflow/python/util/util.cc:368] Sets are not currently considered sequences, but this may change in the future, so consider avoiding using them.\n",
            "2023-05-14 09:01:25.886889: W tensorflow/core/common_runtime/graph_constructor.cc:803] Node 'resample_p7/PartitionedCall' has 1 outputs but the _output_shapes attribute specifies shapes for 3 outputs. Output shapes may be inaccurate.\n"
          ]
        },
        {
          "name": "stdout",
          "output_type": "stream",
          "text": [
            "Estimated count of arithmetic ops: 1.800 G  ops, equivalently 0.900 G  MACs\n"
          ]
        },
        {
          "name": "stderr",
          "output_type": "stream",
          "text": [
            "2023-05-14 09:01:29.534219: W tensorflow/compiler/mlir/lite/python/tf_tfl_flatbuffer_helpers.cc:357] Ignored output_format.\n",
            "2023-05-14 09:01:29.534250: W tensorflow/compiler/mlir/lite/python/tf_tfl_flatbuffer_helpers.cc:360] Ignored drop_control_dependency.\n",
            "fully_quantize: 0, inference_type: 6, input_inference_type: 3, output_inference_type: 0\n"
          ]
        },
        {
          "name": "stdout",
          "output_type": "stream",
          "text": [
            "Estimated count of arithmetic ops: 1.800 G  ops, equivalently 0.900 G  MACs\n"
          ]
        }
      ],
      "source": [
        "model.export(export_dir='efficientdet_lite0/efficientdet-lite0_int8', tflite_filename='efficientdet-lite0_int8.tflite')"
      ]
    },
    {
      "cell_type": "code",
      "execution_count": 11,
      "metadata": {},
      "outputs": [],
      "source": [
        "config = QuantizationConfig.for_float16()"
      ]
    },
    {
      "cell_type": "code",
      "execution_count": 12,
      "metadata": {},
      "outputs": [
        {
          "name": "stderr",
          "output_type": "stream",
          "text": [
            "2023-05-14 09:04:23.895253: W tensorflow/core/common_runtime/graph_constructor.cc:803] Node 'resample_p7/PartitionedCall' has 1 outputs but the _output_shapes attribute specifies shapes for 3 outputs. Output shapes may be inaccurate.\n"
          ]
        },
        {
          "name": "stdout",
          "output_type": "stream",
          "text": [
            "Estimated count of arithmetic ops: 1.800 G  ops, equivalently 0.900 G  MACs\n"
          ]
        },
        {
          "name": "stderr",
          "output_type": "stream",
          "text": [
            "2023-05-14 09:04:27.179234: W tensorflow/compiler/mlir/lite/python/tf_tfl_flatbuffer_helpers.cc:357] Ignored output_format.\n",
            "2023-05-14 09:04:27.179277: W tensorflow/compiler/mlir/lite/python/tf_tfl_flatbuffer_helpers.cc:360] Ignored drop_control_dependency.\n"
          ]
        }
      ],
      "source": [
        "model.export(export_dir='efficientdet_lite0/efficientdet-lite0_float16', tflite_filename='efficientdet-lite0_float16.tflite', quantization_config=config)"
      ]
    },
    {
      "cell_type": "code",
      "execution_count": 13,
      "metadata": {
        "id": "Qmqg9CyujGzd"
      },
      "outputs": [
        {
          "name": "stderr",
          "output_type": "stream",
          "text": [
            "INFO: Created TensorFlow Lite XNNPACK delegate for CPU.\n"
          ]
        },
        {
          "name": "stdout",
          "output_type": "stream",
          "text": [
            "2812/2812 [==============================] - 3277s 1s/step\n",
            "\n"
          ]
        },
        {
          "data": {
            "text/plain": [
              "{'AP': 0.39613867,\n",
              " 'AP50': 0.6594544,\n",
              " 'AP75': 0.4324993,\n",
              " 'APs': 0.03299505,\n",
              " 'APm': 0.22098728,\n",
              " 'APl': 0.47409192,\n",
              " 'ARmax1': 0.3155736,\n",
              " 'ARmax10': 0.43492427,\n",
              " 'ARmax100': 0.46773785,\n",
              " 'ARs': 0.035416666,\n",
              " 'ARm': 0.309211,\n",
              " 'ARl': 0.5518053,\n",
              " 'AP_/person': -1.0,\n",
              " 'AP_/dog': -1.0,\n",
              " 'AP_/horse': -1.0,\n",
              " 'AP_/bird': -1.0,\n",
              " 'AP_/cat': -1.0,\n",
              " 'AP_/bear': -1.0,\n",
              " 'AP_/sheep': -1.0,\n",
              " 'AP_/cow': -1.0,\n",
              " 'AP_/apple_green': 0.4375057,\n",
              " 'AP_/apple_mechanic': 0.30638063,\n",
              " 'AP_/apple_parsha': 0.15963592,\n",
              " 'AP_/apple_red': 0.30335784,\n",
              " 'AP_/face': 0.3708384,\n",
              " 'AP_/Fall-Detected': 0.38931078,\n",
              " 'AP_/smoke': 0.8059414}"
            ]
          },
          "execution_count": 13,
          "metadata": {},
          "output_type": "execute_result"
        }
      ],
      "source": [
        "model.evaluate_tflite('efficientdet_lite0/efficientdet-lite0_int8/efficientdet-lite0_int8.tflite', test_data)"
      ]
    }
  ],
  "metadata": {
    "accelerator": "GPU",
    "colab": {
      "gpuType": "T4",
      "provenance": []
    },
    "gpuClass": "standard",
    "kernelspec": {
      "display_name": "Python 3",
      "name": "python3"
    },
    "language_info": {
      "codemirror_mode": {
        "name": "ipython",
        "version": 3
      },
      "file_extension": ".py",
      "mimetype": "text/x-python",
      "name": "python",
      "nbconvert_exporter": "python",
      "pygments_lexer": "ipython3",
      "version": "3.9.16"
    }
  },
  "nbformat": 4,
  "nbformat_minor": 0
}
